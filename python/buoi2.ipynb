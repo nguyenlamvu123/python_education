{
 "cells": [
  {
   "cell_type": "code",
   "execution_count": 1,
   "id": "1885fc63-90e9-4dd4-b695-dbe0e26acdb8",
   "metadata": {},
   "outputs": [
    {
     "name": "stdout",
     "output_type": "stream",
     "text": [
      "hà nội\n"
     ]
    }
   ],
   "source": [
    "print('hà nội')"
   ]
  },
  {
   "cell_type": "code",
   "execution_count": 2,
   "id": "8816bb8f-66e4-4b04-b546-2af39951bde3",
   "metadata": {},
   "outputs": [],
   "source": [
    "v: str = 'vừa qua'  # định nghĩa biến "
   ]
  },
  {
   "cell_type": "code",
   "execution_count": 3,
   "id": "277985d5-f6e6-4939-9664-2aca136caef7",
   "metadata": {},
   "outputs": [
    {
     "name": "stdout",
     "output_type": "stream",
     "text": [
      "không có a_\n"
     ]
    }
   ],
   "source": [
    "if 'a_' in v:\n",
    "\tprint(v)\n",
    "else:\n",
    "                       print('không có a_')"
   ]
  },
  {
   "cell_type": "code",
   "execution_count": 4,
   "id": "87853da0-7407-4247-b99f-a9f833156c33",
   "metadata": {},
   "outputs": [
    {
     "name": "stdout",
     "output_type": "stream",
     "text": [
      "bão to quá\n"
     ]
    }
   ],
   "source": [
    "b = 'bão to quá'\n",
    "print(b)"
   ]
  },
  {
   "cell_type": "code",
   "execution_count": 5,
   "id": "75a63488-fb73-42f3-9bfe-7b498820c49d",
   "metadata": {},
   "outputs": [
    {
     "name": "stdout",
     "output_type": "stream",
     "text": [
      "vừa qua 5698654trq2efeshgffvds\n"
     ]
    }
   ],
   "source": [
    "print(v + ' 5698654trq2efeshgffvds')"
   ]
  }
 ],
 "metadata": {
  "kernelspec": {
   "display_name": "Python 3 (ipykernel)",
   "language": "python",
   "name": "python3"
  },
  "language_info": {
   "codemirror_mode": {
    "name": "ipython",
    "version": 3
   },
   "file_extension": ".py",
   "mimetype": "text/x-python",
   "name": "python",
   "nbconvert_exporter": "python",
   "pygments_lexer": "ipython3",
   "version": "3.8.0"
  }
 },
 "nbformat": 4,
 "nbformat_minor": 5
}
