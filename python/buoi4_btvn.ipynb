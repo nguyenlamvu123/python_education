{
 "cells": [
  {
   "cell_type": "code",
   "execution_count": 1,
   "id": "0a708e82-8689-454e-bda6-989a914620ad",
   "metadata": {},
   "outputs": [],
   "source": [
    "import numpy as np"
   ]
  },
  {
   "cell_type": "code",
   "execution_count": 2,
   "id": "4cc1d190-8a7d-493a-bf3c-47cfa825ec6d",
   "metadata": {},
   "outputs": [
    {
     "name": "stdout",
     "output_type": "stream",
     "text": [
      "1D array\n"
     ]
    },
    {
     "data": {
      "text/plain": [
       "array([1, 2, 3])"
      ]
     },
     "execution_count": 2,
     "metadata": {},
     "output_type": "execute_result"
    }
   ],
   "source": [
    "a = np.array([1,2,3])\n",
    "print(\"1D array\")\n",
    "a"
   ]
  },
  {
   "cell_type": "code",
   "execution_count": 5,
   "id": "d7e70e31-d0bd-428b-82cb-00e26387ab8b",
   "metadata": {},
   "outputs": [
    {
     "data": {
      "text/plain": [
       "dtype('int32')"
      ]
     },
     "execution_count": 5,
     "metadata": {},
     "output_type": "execute_result"
    }
   ],
   "source": [
    "a.dtype"
   ]
  },
  {
   "cell_type": "code",
   "execution_count": 8,
   "id": "5e5ce0ff-6d86-4727-b127-7f406ff3f6d1",
   "metadata": {},
   "outputs": [
    {
     "name": "stdout",
     "output_type": "stream",
     "text": [
      "Type:  <class 'numpy.ndarray'>\n"
     ]
    }
   ],
   "source": [
    "type(a)  # kiểu dữ liệu của biến\n",
    "print(\"Type: \", type(a))"
   ]
  },
  {
   "cell_type": "code",
   "execution_count": 9,
   "id": "eb858309-75dc-42d2-b4e9-c8223d85ec8a",
   "metadata": {},
   "outputs": [
    {
     "data": {
      "text/plain": [
       "array([[1, 2, 3],\n",
       "       [4, 5, 6]])"
      ]
     },
     "execution_count": 9,
     "metadata": {},
     "output_type": "execute_result"
    }
   ],
   "source": [
    "b = np.array([\n",
    "    [1,2,3],\n",
    "    [4,5,6]\n",
    "])\n",
    "b"
   ]
  },
  {
   "cell_type": "code",
   "execution_count": 10,
   "id": "c6f9a24a-8b60-4732-ac40-c41a665e61f5",
   "metadata": {},
   "outputs": [
    {
     "data": {
      "text/plain": [
       "array([[[ 1,  2,  3],\n",
       "        [ 4,  5,  6]],\n",
       "\n",
       "       [[ 7,  8,  9],\n",
       "        [10, 11, 12]]])"
      ]
     },
     "execution_count": 10,
     "metadata": {},
     "output_type": "execute_result"
    }
   ],
   "source": [
    "c = np.array([\n",
    "    [\n",
    "        [1,2,3],\n",
    "        [4,5,6]\n",
    "    ], \n",
    "    [\n",
    "        [7,8,9],\n",
    "        [10,11,12]\n",
    "    ]\n",
    "])\n",
    "c"
   ]
  },
  {
   "cell_type": "code",
   "execution_count": 12,
   "id": "4c4ba1ee-d1ae-4df6-8a37-07a0444bb289",
   "metadata": {},
   "outputs": [
    {
     "data": {
      "text/plain": [
       "array([[1, 2, 3]])"
      ]
     },
     "execution_count": 12,
     "metadata": {},
     "output_type": "execute_result"
    }
   ],
   "source": [
    "d = np.array(\n",
    "    [\n",
    "        [1, 2, 3]\n",
    "    ]\n",
    ")\n",
    "d"
   ]
  },
  {
   "cell_type": "code",
   "execution_count": 13,
   "id": "639df4d0-1653-49dd-9af2-c581416afe43",
   "metadata": {},
   "outputs": [
    {
     "name": "stdout",
     "output_type": "stream",
     "text": [
      "Kích thước các mảng:\n",
      " (3,)\n",
      "Kích thước các mảng:\n",
      " (2, 3)\n",
      "Kích thước các mảng:\n",
      " (2, 2, 3)\n",
      "Kích thước các mảng:\n",
      " (1, 3)\n"
     ]
    }
   ],
   "source": [
    "arrays = [a, b, c, d]\n",
    "for i in arrays:\n",
    "    print(\"Kích thước các mảng:\\n\", np.shape(i))"
   ]
  },
  {
   "cell_type": "code",
   "execution_count": 14,
   "id": "685994e0-fe86-4648-9b9b-7d153e693c21",
   "metadata": {},
   "outputs": [
    {
     "name": "stdout",
     "output_type": "stream",
     "text": [
      "\n",
      "kích thước mảng a  (3,)\n",
      "kích thước mảng b (2, 3)\n",
      "kích thước mảng c (2, 2, 3)\n",
      "kích thước mảng d (1, 3) \n",
      "\n"
     ]
    }
   ],
   "source": [
    "print('\\nkích thước mảng a ',a.shape)\n",
    "print('kích thước mảng b',b.shape)\n",
    "print('kích thước mảng c',c.shape)\n",
    "print('kích thước mảng d',d.shape, '\\n')"
   ]
  },
  {
   "cell_type": "code",
   "execution_count": 15,
   "id": "8432bf8a-ff47-4b0b-bc9a-020b07551389",
   "metadata": {},
   "outputs": [
    {
     "name": "stdout",
     "output_type": "stream",
     "text": [
      "Matrix of ones [[1. 1.]\n",
      " [1. 1.]]\n",
      "Matrix of zeros [[0. 0.]\n",
      " [0. 0.]]\n",
      "Identity matrix [[1. 0. 0.]\n",
      " [0. 1. 0.]\n",
      " [0. 0. 1.]]\n",
      "Random matrix [[0 0 1]\n",
      " [0 1 0]\n",
      " [1 1 0]]\n"
     ]
    }
   ],
   "source": [
    "print(\"Matrix of ones\", np.ones((2,2)))  # yêu cầu: tạo ma trận các phần tử đều là 1 kích thước (2, 2)\n",
    "print(\"Matrix of zeros\", np.zeros((2,2)))  # yêu cầu: tạo ma trận các phần tử đều là 0 kích thước (2, 2)  # np.zeros()\n",
    "print(\"Identity matrix\", np.eye(3))  # yêu cầu: tạo ma trận đơn vị 3 chiều  # np.eye()\n",
    "print(\"Random matrix\", np.random.randint(0,2,(3,3)))  # yêu cầu: tạo ma trận ngẫu nhiên các phần tử nằm trong khoảng (0, 1) kích thước (3, 3)  # np.random.rand()"
   ]
  },
  {
   "cell_type": "code",
   "execution_count": 16,
   "id": "387a1758-043b-4530-8de2-5fee49cd4d73",
   "metadata": {},
   "outputs": [
    {
     "name": "stdout",
     "output_type": "stream",
     "text": [
      "Matrix of ones\n",
      "[[1. 1.]\n",
      " [1. 1.]]\n",
      "Matrix of zeros\n",
      "[[0. 0.]\n",
      " [0. 0.]]\n",
      "Identity matrix\n",
      "[[1. 0. 0.]\n",
      " [0. 1. 0.]\n",
      " [0. 0. 1.]]\n",
      "Random matrix\n",
      "[[0.41315799 0.86480651 0.97058063]\n",
      " [0.07964497 0.99312623 0.9149731 ]\n",
      " [0.98340564 0.35234936 0.7648113 ]]\n"
     ]
    }
   ],
   "source": [
    "print(\"Matrix of ones\")  # yêu cầu: tạo ma trận các phần tử đều là 1 kích thước (2, 2)  # np.ones()\n",
    "print(np.ones((2,2)))\n",
    "print(\"Matrix of zeros\")  # yêu cầu: tạo ma trận các phần tử đều là 0 kích thước (2, 2)  # np.zeros()\n",
    "print(np.zeros((2,2)))\n",
    "print(\"Identity matrix\")  # yêu cầu: tạo ma trận đơn vị 3 chiều  # np.eye()\n",
    "print(np.eye(3, dtype = float))\n",
    "print(\"Random matrix\")  # yêu cầu: tạo ma trận ngẫu nhiên các phần tử nằm trong khoảng (0, 1) kích thước (3, 3)  # np.random.rand()\n",
    "print(np.random.rand(3,3))"
   ]
  },
  {
   "cell_type": "code",
   "execution_count": 18,
   "id": "d7089be3-4122-488e-98a8-b4cc26312277",
   "metadata": {},
   "outputs": [
    {
     "data": {
      "text/plain": [
       "array([[1., 1.],\n",
       "       [1., 1.]])"
      ]
     },
     "execution_count": 18,
     "metadata": {},
     "output_type": "execute_result"
    }
   ],
   "source": [
    "dfshbsad = np.ones((2,2))\n",
    "dfshbsad"
   ]
  },
  {
   "cell_type": "code",
   "execution_count": 19,
   "id": "8858ce3d-ab62-4588-a9b2-4f963595ea9d",
   "metadata": {},
   "outputs": [],
   "source": [
    "a = np.array([[1,0,2],\n",
    "              [2,3,0]])\n",
    "b = np.array([[2,1,-1],\n",
    "              [2,1,2]])\n",
    "c = np.array([[2,1],\n",
    "              [0,2],\n",
    "              [1,2]])"
   ]
  },
  {
   "cell_type": "code",
   "execution_count": 20,
   "id": "9889fcb9-ab13-4467-9aa7-50b4f52c848d",
   "metadata": {},
   "outputs": [
    {
     "name": "stdout",
     "output_type": "stream",
     "text": [
      "Tổng hai ma trận: \n",
      "[[3 1 1]\n",
      " [4 4 2]]\n",
      "Hiệu hai ma trận: \n",
      "[[-1 -1  3]\n",
      " [ 0  2 -2]]\n",
      "Tích hai ma trận: \n",
      "[[ 2  0 -2]\n",
      " [ 4  3  0]]\n",
      "Nhân hai ma trận: \n",
      "[[4 5]\n",
      " [4 8]]\n"
     ]
    }
   ],
   "source": [
    "print('Tổng hai ma trận: \\n{}'.format(a + b))\n",
    "# yêu cầu: in ra màn hình a - b\n",
    "print('Hiệu hai ma trận: \\n{}'.format(a - b))\n",
    "# yêu cầu: in ra màn hình a * b\n",
    "print('Tích hai ma trận: \\n{}'.format(a * b))\n",
    "print('Nhân hai ma trận: \\n{}'.format(np.dot(a, c)))"
   ]
  },
  {
   "cell_type": "code",
   "execution_count": 25,
   "id": "f1fc00e6-f66e-4143-9662-387663720f31",
   "metadata": {},
   "outputs": [
    {
     "name": "stdout",
     "output_type": "stream",
     "text": [
      "[[ 0 -1  1]\n",
      " [ 1  2 -1]]\n",
      "[[-1 -1  3]\n",
      " [ 0  2 -2]]\n"
     ]
    },
    {
     "ename": "ValueError",
     "evalue": "operands could not be broadcast together with shapes (2,3) (3,2) ",
     "output_type": "error",
     "traceback": [
      "\u001b[1;31m---------------------------------------------------------------------------\u001b[0m",
      "\u001b[1;31mValueError\u001b[0m                                Traceback (most recent call last)",
      "Cell \u001b[1;32mIn[25], line 18\u001b[0m\n\u001b[0;32m     16\u001b[0m \u001b[38;5;28mprint\u001b[39m(a\u001b[38;5;241m-\u001b[39mb)\n\u001b[0;32m     17\u001b[0m \u001b[38;5;66;03m# yêu cầu: in ra màn hình a - c\u001b[39;00m\n\u001b[1;32m---> 18\u001b[0m \u001b[38;5;28mprint\u001b[39m(\u001b[43ma\u001b[49m\u001b[38;5;241;43m-\u001b[39;49m\u001b[43mc\u001b[49m)\n",
      "\u001b[1;31mValueError\u001b[0m: operands could not be broadcast together with shapes (2,3) (3,2) "
     ]
    }
   ],
   "source": [
    "# # # yêu cầu: in ra màn hình a - 1\n",
    "# # print ('\\n a - 1: ', a-1)\n",
    "# # # yêu cầu: in ra màn hình a - b\n",
    "# # print ('\\n a - b: ', a-b)\n",
    "# # # yêu cầu: in ra màn hình a - c\n",
    "# # print ('\\n a -c: ', a-c)\n",
    "# # yêu cầu: in ra màn hình a - 1\n",
    "# print(\"In ra màn hình a - 1: \\n{}\".format(a-1))\n",
    "# # yêu cầu: in ra màn hình a - b\n",
    "# print(\"\\nIn ra màn hình a - b: \\n{}\".format(a - b))\n",
    "# # yêu cầu: in ra màn hình a - c\n",
    "# print(\"In ra màn hình a - c: \\n{}\".format(a - c))\n",
    "# yêu cầu: in ra màn hình a - 1\n",
    "print(a-1)\n",
    "# yêu cầu: in ra màn hình a - b\n",
    "print(a-b)\n",
    "# yêu cầu: in ra màn hình a - c\n",
    "print(a-c)"
   ]
  },
  {
   "cell_type": "code",
   "execution_count": 26,
   "id": "c62bf594-656a-4db8-bb74-816b8c651858",
   "metadata": {},
   "outputs": [
    {
     "data": {
      "text/plain": [
       "array([[ 2,  2],\n",
       "       [ 1,  1],\n",
       "       [-1,  2]])"
      ]
     },
     "execution_count": 26,
     "metadata": {},
     "output_type": "execute_result"
    }
   ],
   "source": [
    "b = np.array([[2,1,-1],\n",
    "              [2,1,2]])\n",
    "b.T"
   ]
  },
  {
   "cell_type": "code",
   "execution_count": 27,
   "id": "665942da-28a7-4859-81ce-cb258ed5db70",
   "metadata": {},
   "outputs": [
    {
     "name": "stdout",
     "output_type": "stream",
     "text": [
      "Chuyển vị ma trận b: \n",
      "[[ 2  2]\n",
      " [ 1  1]\n",
      " [-1  2]]\n"
     ]
    }
   ],
   "source": [
    "print(\"Chuyển vị ma trận b: \\n{}\".format(np.transpose(b)))"
   ]
  },
  {
   "cell_type": "code",
   "execution_count": 29,
   "id": "a173441b-0ca8-4da8-aad9-b66299958033",
   "metadata": {},
   "outputs": [
    {
     "name": "stdout",
     "output_type": "stream",
     "text": [
      "\n",
      "nhân ma trận  [[0 6]\n",
      " [7 7]]\n",
      "Nhân ma trận np.matmul: \n",
      "[[0 6]\n",
      " [7 7]]\n"
     ]
    }
   ],
   "source": [
    "print('\\nnhân ma trận ', np.matmul(a,b.T))\n",
    "print(\"Nhân ma trận np.matmul: \\n{}\".format(np.matmul(a, np.transpose(b))))"
   ]
  },
  {
   "cell_type": "code",
   "execution_count": 30,
   "id": "1a3cc076-cb9c-4199-9468-3e3663ba723b",
   "metadata": {},
   "outputs": [
    {
     "name": "stdout",
     "output_type": "stream",
     "text": [
      "[[4 1]\n",
      " [2 2]]\n",
      "[[5 0]\n",
      " [0 5]]\n",
      "[[4 1]\n",
      " [2 2]]\n"
     ]
    },
    {
     "ename": "ValueError",
     "evalue": "matmul: Input operand 1 does not have enough dimensions (has 0, gufunc core with signature (n?,k),(k,m?)->(n?,m?) requires 1)",
     "output_type": "error",
     "traceback": [
      "\u001b[1;31m---------------------------------------------------------------------------\u001b[0m",
      "\u001b[1;31mValueError\u001b[0m                                Traceback (most recent call last)",
      "Cell \u001b[1;32mIn[30], line 11\u001b[0m\n\u001b[0;32m      9\u001b[0m \u001b[38;5;66;03m# Sử dụng numpy.matmul\u001b[39;00m\n\u001b[0;32m     10\u001b[0m \u001b[38;5;28mprint\u001b[39m(np\u001b[38;5;241m.\u001b[39mmatmul(a_, b_))  \u001b[38;5;66;03m# Output: [[4, 1], [2, 2]]\u001b[39;00m\n\u001b[1;32m---> 11\u001b[0m \u001b[38;5;28mprint\u001b[39m(\u001b[43mnp\u001b[49m\u001b[38;5;241;43m.\u001b[39;49m\u001b[43mmatmul\u001b[49m\u001b[43m(\u001b[49m\u001b[43ma_\u001b[49m\u001b[43m,\u001b[49m\u001b[43m \u001b[49m\u001b[38;5;241;43m5\u001b[39;49m\u001b[43m)\u001b[49m)  \u001b[38;5;66;03m# Output: [[4, 1], [2, 2]]\u001b[39;00m\n",
      "\u001b[1;31mValueError\u001b[0m: matmul: Input operand 1 does not have enough dimensions (has 0, gufunc core with signature (n?,k),(k,m?)->(n?,m?) requires 1)"
     ]
    }
   ],
   "source": [
    "import numpy as np\n",
    "\n",
    "# Sử dụng numpy.dot\n",
    "a_ = np.array([[1, 0], [0, 1]])\n",
    "b_ = np.array([[4, 1], [2, 2]])\n",
    "print(np.dot(a_, b_))  # Output: [[4, 1], [2, 2]]\n",
    "print(np.dot(a_, 5))  # Output: [[4, 1], [2, 2]]\n",
    "\n",
    "# Sử dụng numpy.matmul\n",
    "print(np.matmul(a_, b_))  # Output: [[4, 1], [2, 2]]\n",
    "print(np.matmul(a_, 5))  # Output: [[4, 1], [2, 2]]"
   ]
  },
  {
   "cell_type": "code",
   "execution_count": 32,
   "id": "9c0289ec-1f7d-4344-aa2c-a343e3f122a1",
   "metadata": {},
   "outputs": [
    {
     "data": {
      "text/plain": [
       "2"
      ]
     },
     "execution_count": 32,
     "metadata": {},
     "output_type": "execute_result"
    }
   ],
   "source": [
    "a = np.array([\n",
    "    [1,0,2],\n",
    "    [2,3,0]\n",
    "])\n",
    "a[1,0]"
   ]
  },
  {
   "cell_type": "code",
   "execution_count": 33,
   "id": "d6243ffb-9e14-4022-b16f-cfa09a3bda4b",
   "metadata": {},
   "outputs": [
    {
     "data": {
      "text/plain": [
       "array([2, 3, 0])"
      ]
     },
     "execution_count": 33,
     "metadata": {},
     "output_type": "execute_result"
    }
   ],
   "source": [
    "a[1, :]"
   ]
  },
  {
   "cell_type": "code",
   "execution_count": 34,
   "id": "fce25298-7dac-46e2-98db-8b84d4bd6637",
   "metadata": {},
   "outputs": [
    {
     "data": {
      "text/plain": [
       "array([0, 3])"
      ]
     },
     "execution_count": 34,
     "metadata": {},
     "output_type": "execute_result"
    }
   ],
   "source": [
    "a[:,1]"
   ]
  },
  {
   "cell_type": "code",
   "execution_count": 35,
   "id": "9feb19cc-e4b4-4ddf-879e-a9a06d830f45",
   "metadata": {},
   "outputs": [
    {
     "data": {
      "text/plain": [
       "array([[1, 0],\n",
       "       [2, 3]])"
      ]
     },
     "execution_count": 35,
     "metadata": {},
     "output_type": "execute_result"
    }
   ],
   "source": [
    "a[:2, :2]"
   ]
  },
  {
   "cell_type": "code",
   "execution_count": 36,
   "id": "ebef1979-19a3-458a-855d-c5e34138a82f",
   "metadata": {},
   "outputs": [
    {
     "data": {
      "text/plain": [
       "array([[False, False,  True],\n",
       "       [ True,  True, False]])"
      ]
     },
     "execution_count": 36,
     "metadata": {},
     "output_type": "execute_result"
    }
   ],
   "source": [
    "mask = a>=2\n",
    "mask"
   ]
  },
  {
   "cell_type": "code",
   "execution_count": 37,
   "id": "0575ead2-304a-4d13-93a9-32069dc4c48c",
   "metadata": {},
   "outputs": [
    {
     "data": {
      "text/plain": [
       "array([[False, False,  True],\n",
       "       [ True,  True, False]])"
      ]
     },
     "execution_count": 37,
     "metadata": {},
     "output_type": "execute_result"
    }
   ],
   "source": [
    "a >= 2"
   ]
  },
  {
   "cell_type": "code",
   "execution_count": 38,
   "id": "42a4c375-7786-4f27-89c1-e3c537380efc",
   "metadata": {},
   "outputs": [
    {
     "data": {
      "text/plain": [
       "array([2, 2, 3])"
      ]
     },
     "execution_count": 38,
     "metadata": {},
     "output_type": "execute_result"
    }
   ],
   "source": [
    "a[mask]"
   ]
  },
  {
   "cell_type": "code",
   "execution_count": 39,
   "id": "38cf277e-5978-420a-a572-55fa800a0bf4",
   "metadata": {},
   "outputs": [
    {
     "data": {
      "text/plain": [
       "array([[1, 5, 2],\n",
       "       [2, 3, 0]])"
      ]
     },
     "execution_count": 39,
     "metadata": {},
     "output_type": "execute_result"
    }
   ],
   "source": [
    "a[0,1] = 5\n",
    "a"
   ]
  },
  {
   "cell_type": "code",
   "execution_count": 40,
   "id": "0bf4222f-1f8a-4f99-bfa3-b0e599d8f7cc",
   "metadata": {},
   "outputs": [
    {
     "data": {
      "text/plain": [
       "array([[1, 5],\n",
       "       [2, 2],\n",
       "       [3, 0]])"
      ]
     },
     "execution_count": 40,
     "metadata": {},
     "output_type": "execute_result"
    }
   ],
   "source": [
    "a.reshape((3,2))"
   ]
  },
  {
   "cell_type": "code",
   "execution_count": 47,
   "id": "bdfaceaf-81f1-4a4e-afd3-7cf802b87788",
   "metadata": {},
   "outputs": [
    {
     "data": {
      "text/plain": [
       "array([[1, 5, 2, 2, 3, 0]])"
      ]
     },
     "execution_count": 47,
     "metadata": {},
     "output_type": "execute_result"
    }
   ],
   "source": [
    "a.reshape((1,-1000))"
   ]
  },
  {
   "cell_type": "code",
   "execution_count": 48,
   "id": "7d41686b-71fe-4765-b4e5-476cb72a05e8",
   "metadata": {},
   "outputs": [
    {
     "data": {
      "text/plain": [
       "array([[0, 5, 2],\n",
       "       [0, 3, 0]])"
      ]
     },
     "execution_count": 48,
     "metadata": {},
     "output_type": "execute_result"
    }
   ],
   "source": [
    "a[:,0] = np.zeros((,))\n",
    "a"
   ]
  },
  {
   "cell_type": "code",
   "execution_count": 59,
   "id": "0263c4b7-a4a9-4ee3-ba7a-18005df891fa",
   "metadata": {},
   "outputs": [
    {
     "data": {
      "text/plain": [
       "array([], dtype=float64)"
      ]
     },
     "execution_count": 59,
     "metadata": {},
     "output_type": "execute_result"
    }
   ],
   "source": [
    "dhd = np.zeros((0,))\n",
    "dhd"
   ]
  },
  {
   "cell_type": "code",
   "execution_count": 51,
   "id": "e0c640c1-461e-47c4-b098-d07e15bb95df",
   "metadata": {},
   "outputs": [
    {
     "data": {
      "text/plain": [
       "array([1, 2])"
      ]
     },
     "execution_count": 51,
     "metadata": {},
     "output_type": "execute_result"
    }
   ],
   "source": [
    "a[:,0]"
   ]
  },
  {
   "cell_type": "code",
   "execution_count": 58,
   "id": "67d73003-689f-4dfa-8465-05be2f88368b",
   "metadata": {},
   "outputs": [
    {
     "data": {
      "text/plain": [
       "array([[0, 0, 2],\n",
       "       [0, 3, 0]])"
      ]
     },
     "execution_count": 58,
     "metadata": {},
     "output_type": "execute_result"
    }
   ],
   "source": [
    "a[:,0] = np.zeros((1,))\n",
    "a"
   ]
  },
  {
   "cell_type": "code",
   "execution_count": 50,
   "id": "5fbaedea-524e-4037-bf5e-d4bc755af022",
   "metadata": {},
   "outputs": [
    {
     "data": {
      "text/plain": [
       "array([[1, 0, 2],\n",
       "       [2, 3, 0]])"
      ]
     },
     "execution_count": 50,
     "metadata": {},
     "output_type": "execute_result"
    }
   ],
   "source": [
    "a = np.array([\n",
    "    [1,0,2],\n",
    "    [2,3,0]\n",
    "])\n",
    "a"
   ]
  }
 ],
 "metadata": {
  "kernelspec": {
   "display_name": "Python 3 (ipykernel)",
   "language": "python",
   "name": "python3"
  },
  "language_info": {
   "codemirror_mode": {
    "name": "ipython",
    "version": 3
   },
   "file_extension": ".py",
   "mimetype": "text/x-python",
   "name": "python",
   "nbconvert_exporter": "python",
   "pygments_lexer": "ipython3",
   "version": "3.8.0"
  }
 },
 "nbformat": 4,
 "nbformat_minor": 5
}
